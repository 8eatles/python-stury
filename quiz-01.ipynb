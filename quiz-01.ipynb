{
 "cells": [
  {
   "cell_type": "markdown",
   "metadata": {},
   "source": [
    "# 함수와 반복문 Quiz\n",
    "\n",
    "## 문제 1\n",
    "\n",
    "랜덤으로 날짜를 출력하는 함수가 있다. (하단 셀 참조)\n",
    "\n",
    "(23번째 줄) 랜덤으로 만들어낸 날짜를 리턴하는 부분에서 month에 왜 +1을 해주었을까?"
   ]
  },
  {
   "cell_type": "code",
   "execution_count": 6,
   "metadata": {},
   "outputs": [
    {
     "name": "stdout",
     "output_type": "stream",
     "text": [
      "6월 24일\n",
      "3월 8일\n",
      "10월 21일\n",
      "4월 29일\n",
      "10월 14일\n"
     ]
    }
   ],
   "source": [
    "import random\n",
    "\n",
    "def randomMonthDay():\n",
    "  # 월별 일수를 저장한 리스트를 만듭니다.\n",
    "  numberOfDaysAtMonths = [31, 28, 31, 30, 31, 30, 31, 31, 30, 31, 30, 31]\n",
    "\n",
    "  # 1년 중에서 랜덤한 하루를 선택합니다.\n",
    "  randomDay = random.randint(1, 365)\n",
    "\n",
    "  # 랜덤한 하루가 몇 월 몇 일인지 계산합니다.\n",
    "  month = 0\n",
    "  while randomDay > numberOfDaysAtMonths[month]:\n",
    "    randomDay -= numberOfDaysAtMonths[month]\n",
    "    month += 1\n",
    "  \n",
    "  # 결과를 리턴합니다.\n",
    "  return month + 1, randomDay\n",
    "\n",
    "\n",
    "# 위에서 만든 함수 테스트 코드\n",
    "for i in range(5):\n",
    "  month, day = randomMonthDay()\n",
    "  print('{}월 {}일'.format(month, day))"
   ]
  },
  {
   "cell_type": "markdown",
   "metadata": {},
   "source": [
    "## 문제 2\n",
    "\n",
    "1번 문제에서 보다 정확도를 높이기 위해(1년은 365.25일) 윤년까지 계산하게 수정하였다.\n",
    "\n",
    "랜덤으로 나온 결과가 누군가의 생일일 경우 생일축하 메시지를 띄워주는 기능을 추가해보자.\n",
    "\n",
    "생일 데이터 예\n",
    "\n",
    "```python\n",
    "birthDays = [\n",
    "  ['홍길동', 5, 14],\n",
    "  ['전우치', 9, 30],\n",
    "  ['임꺽정', 12, 25],\n",
    "]\n",
    "```"
   ]
  },
  {
   "cell_type": "code",
   "execution_count": null,
   "metadata": {},
   "outputs": [],
   "source": [
    "import random\n",
    "\n",
    "def randomMonthDay():\n",
    "  # 1/4 확률로 윤년을 만듭니다.\n",
    "  isLeapYear = random.choice([True, False, False, False])\n",
    "\n",
    "  # 월별 일수를 저장한 리스트를 만듭니다.\n",
    "  numberOfDaysAtMonths = [31, 29 if isLeapYear else 28, 31, 30, 31, 30, 31, 31, 30, 31, 30, 31]\n",
    "\n",
    "  # 1년에 해당하는 일수를 계산합니다.\n",
    "  numberOfDaysAtAnYear = 366 if isLeapYear else 365 # sum(numberOfDaysAtMonths)\n",
    "\n",
    "  # 1년 중에서 랜덤한 하루를 선택합니다.\n",
    "  randomDay = random.randint(1, numberOfDaysAtAnYear)\n",
    "\n",
    "  # 랜덤한 하루가 몇 월 몇 일인지 계산합니다.\n",
    "  month = 0\n",
    "  while randomDay > numberOfDaysAtMonths[month]:\n",
    "    randomDay -= numberOfDaysAtMonths[month]\n",
    "    month += 1\n",
    "  \n",
    "  # 결과를 리턴합니다.\n",
    "  return month + 1, randomDay\n",
    "\n",
    "\n",
    "# 위에서 만든 함수 테스트 코드\n",
    "for i in range(5):\n",
    "  month, day = randomMonthDay()\n",
    "  print('{}월 {}일'.format(month, day))"
   ]
  },
  {
   "cell_type": "markdown",
   "metadata": {},
   "source": [
    "## 문제 3\n",
    "\n",
    "다음 단위를 미터로 변환하는 함수를 완성하시오.\n",
    "\n",
    "- 인치 (in)\n",
    "- 피트 (ft)\n",
    "- 야드 (yd)\n",
    "- 마일 (mi)\n",
    "\n",
    "기대하는 결과\n",
    "```bash\n",
    "2.54m\n",
    "지원하지 않는 단위입니다.: xx\n",
    "91.44m\n",
    "30.48m\n",
    "160934.4m\n",
    "```"
   ]
  },
  {
   "cell_type": "code",
   "execution_count": 9,
   "metadata": {},
   "outputs": [
    {
     "name": "stdout",
     "output_type": "stream",
     "text": [
      "100m\n",
      "지원하지 않는 단위입니다.: xx\n",
      "지원하지 않는 단위입니다.: yard\n",
      "지원하지 않는 단위입니다.: ft\n",
      "지원하지 않는 단위입니다.: mile\n"
     ]
    }
   ],
   "source": [
    "def toMeter(unit, value):\n",
    "  if unit == 'in' or unit == 'inch':\n",
    "    return value\n",
    "  else:\n",
    "    raise Exception('지원하지 않는 단위입니다.: {}'.format(unit))\n",
    "\n",
    "\n",
    "testSet = [\n",
    "  ['in', 100],\n",
    "  ['xx', 100],\n",
    "  ['yard', 100],\n",
    "  ['ft', 100],\n",
    "  ['mile', 100],\n",
    "]\n",
    "\n",
    "for unit, value in testSet:\n",
    "  try:\n",
    "    result = toMeter(unit, value)\n",
    "    print(str(result) + 'm')\n",
    "  except Exception as e:\n",
    "    print(e)\n"
   ]
  }
 ],
 "metadata": {
  "kernelspec": {
   "display_name": "Python 3.10.6 64-bit",
   "language": "python",
   "name": "python3"
  },
  "language_info": {
   "codemirror_mode": {
    "name": "ipython",
    "version": 3
   },
   "file_extension": ".py",
   "mimetype": "text/x-python",
   "name": "python",
   "nbconvert_exporter": "python",
   "pygments_lexer": "ipython3",
   "version": "3.10.6"
  },
  "orig_nbformat": 4,
  "vscode": {
   "interpreter": {
    "hash": "b0fa6594d8f4cbf19f97940f81e996739fb7646882a419484c72d19e05852a7e"
   }
  }
 },
 "nbformat": 4,
 "nbformat_minor": 2
}
