{
 "cells": [
  {
   "cell_type": "code",
   "execution_count": 1,
   "metadata": {},
   "outputs": [
    {
     "name": "stdout",
     "output_type": "stream",
     "text": [
      "빨래을/를 시작합니다.\n",
      "빨래 진행도: 10%\n",
      "빨래 진행도: 20%\n",
      "빨래 진행도: 30%\n",
      "빨래 진행도: 40%\n",
      "빨래 진행도: 50%\n",
      "빨래 진행도: 60%\n",
      "빨래 진행도: 70%\n",
      "빨래 진행도: 80%\n",
      "빨래 진행도: 90%\n",
      "빨래 진행도: 100%\n",
      "빨래를 건조합니다.\n",
      "건조을/를 시작합니다.\n",
      "건조 진행도: 10%\n",
      "건조 진행도: 20%\n",
      "건조 진행도: 30%\n",
      "건조 진행도: 40%\n",
      "건조 진행도: 50%\n",
      "건조 진행도: 60%\n",
      "건조 진행도: 70%\n",
      "건조 진행도: 80%\n",
      "건조 진행도: 90%\n",
      "건조를 종료합니다.\n"
     ]
    }
   ],
   "source": [
    "import time\n",
    "\n",
    "class 세탁기:\n",
    "  def 빨래하기(self, 프로그레스_콜백, 종료_콜백):\n",
    "    for i in range(101):\n",
    "      프로그레스_콜백(\"빨래\", i)\n",
    "      time.sleep(0.05)\n",
    "    종료_콜백(\"빨래\")\n",
    "\n",
    "class 건조기:\n",
    "  def 건조하기(self, 프로그레스_콜백, 종료_콜백):\n",
    "    for i in range(100):\n",
    "      프로그레스_콜백(\"건조\", i)\n",
    "      time.sleep(0.07)\n",
    "    종료_콜백(\"건조\")\n",
    "\n",
    "\n",
    "def main():\n",
    "  세탁기_1호 = 세탁기()\n",
    "  건조기_1호 = 건조기()\n",
    "\n",
    "  def 프로그레스_콜백(액션, 진행도):\n",
    "    if(진행도 == 0):\n",
    "      print(\"{}을/를 시작합니다.\".format(액션))\n",
    "    elif(진행도 % 10 == 0):\n",
    "      print(\"{} 진행도: {}%\".format(액션, 진행도))\n",
    "\n",
    "  def 종료_콜백(액션):\n",
    "    if(액션 == \"빨래\"):\n",
    "      print(\"빨래를 건조합니다.\")\n",
    "      건조기_1호.건조하기(프로그레스_콜백, 종료_콜백)\n",
    "    if(액션 == \"건조\"):\n",
    "      print(\"건조를 종료합니다.\")\n",
    "\n",
    "\n",
    "  세탁기_1호.빨래하기(프로그레스_콜백, 종료_콜백)\n",
    "\n",
    "\n",
    "main()\n"
   ]
  }
 ],
 "metadata": {
  "kernelspec": {
   "display_name": "Python 3.8.9 64-bit",
   "language": "python",
   "name": "python3"
  },
  "language_info": {
   "codemirror_mode": {
    "name": "ipython",
    "version": 3
   },
   "file_extension": ".py",
   "mimetype": "text/x-python",
   "name": "python",
   "nbconvert_exporter": "python",
   "pygments_lexer": "ipython3",
   "version": "3.9.6"
  },
  "orig_nbformat": 4,
  "vscode": {
   "interpreter": {
    "hash": "31f2aee4e71d21fbe5cf8b01ff0e069b9275f58929596ceb00d14d90e3e16cd6"
   }
  }
 },
 "nbformat": 4,
 "nbformat_minor": 2
}
