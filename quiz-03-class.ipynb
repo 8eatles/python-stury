{
 "cells": [
  {
   "cell_type": "markdown",
   "metadata": {},
   "source": [
    "# Quiz 3 클래스 (1)\n",
    "\n",
    "## 문제 1\n",
    "\n",
    "인기 게임 스타크래프트의 사령부(Command Center)를 클래스로 만들어보았다.\n",
    "\n",
    "아래 코드에서 `CommandCenter` 클래스의 `produce` 함수는 건설로봇(SCV)를 생성하는 함수이다.\n",
    "\n",
    "`produce` 함수를 미네랄이 모자라면 SCV를 생성하지 못하게 변경해보자."
   ]
  },
  {
   "cell_type": "code",
   "execution_count": null,
   "metadata": {},
   "outputs": [],
   "source": [
    "# 클래스: 사령부\n",
    "class CommandCenter:\n",
    "  # 멤버 함수: 유닛 생성\n",
    "  def produce(self, mineral):\n",
    "    print(\"건설로봇이 생성되었습니다.\")\n",
    "    return mineral - 50\n",
    "\n",
    "\n",
    "# 위에서 작성한 클래스를 이용한 코드작성\n",
    "def main():\n",
    "  mineral = 1000\n",
    "\n",
    "  # 사령부 생성\n",
    "  commandCenter = CommandCenter()\n",
    "\n",
    "  # 건설로봇 생산\n",
    "  mineral = commandCenter.produce(mineral)\n",
    "\n",
    "  # 남은 미네랄 출력\n",
    "  print(f\"남은 미네랄: {mineral}\")\n",
    "\n",
    "# 메인 함수 호출\n",
    "main()"
   ]
  },
  {
   "cell_type": "markdown",
   "metadata": {},
   "source": [
    "## 문제 2\n",
    "\n",
    "위 코드에서 자원을 보다 효율적으로 관리하기 위해 `Player` 라는 개념을 도입하였다.\n",
    "\n",
    "자원량은 `Player` 에서 관리되며 `CommandCenter` 도 어떤 플레이어에 속하였는지 정보를 가지고 있다.\n",
    "\n",
    "`Player`에 가스 정보를 저장할 수 있는 멤버 변수를 추가하고 `__str__` 함수에 가스 정보도 같이 포함 될 수 있게 변경해보자."
   ]
  },
  {
   "cell_type": "code",
   "execution_count": null,
   "metadata": {},
   "outputs": [],
   "source": [
    "# 클래스: 사령부\n",
    "class CommandCenter:\n",
    "  # 생성자\n",
    "  def __init__(self, player):\n",
    "    self.player = player\n",
    "\n",
    "  # 멤버 함수: 유닛 생성\n",
    "  def produce(self):\n",
    "    self.player.mineral -= 50\n",
    "    print(\"건설로봇이 생성되었습니다.\")\n",
    "\n",
    "# 클래스: 플레이어\n",
    "class Player:\n",
    "  # 생성자\n",
    "  def __init__(self, name):\n",
    "    self.name = name\n",
    "    self.mineral = 1000\n",
    "\n",
    "  # 멤버 함수: 생성자와 같이 예약된 멤버 함수이며, 인스턴스를 문자열로 표현할 때 원하는 형태로 표현할 수 있다.\n",
    "  # 전에 실습했던 printInfo 와 유사한 역할을 한다. (차이점은 print 하지 않고 문자로 반환한다는 점)\n",
    "  def __str__(self):\n",
    "    return f\"{self.name}님의 보유 미네랄 양은 {self.mineral} 입니다.\"\n",
    "\n",
    "\n",
    "# 위에서 작성한 클래스를 이용한 코드작성\n",
    "def main():\n",
    "  # 초기 플레이어 설정\n",
    "  # 플레이어와 시작 건물 / 유닛을 생성한다.\n",
    "  player = Player('BoxeR')\n",
    "  commandCenter = CommandCenter(player)\n",
    "\n",
    "  # 건설로봇 생산\n",
    "  commandCenter.produce()\n",
    "\n",
    "  # 플레이어 정보 출력\n",
    "  print(player)\n",
    "\n",
    "# 메인 함수 호출\n",
    "main()"
   ]
  },
  {
   "cell_type": "markdown",
   "metadata": {},
   "source": [
    "## 문제 3\n",
    "\n",
    "2번 문제의 코드에서 건설로봇(SCV)을 클래스로 만들어 추가하였다.\n",
    "\n",
    "자원량은 `Player` 에서 관리되며 `CommandCenter` 도 어떤 플레이어에 속하였는지 정보를 가지고 있다.\n",
    "\n",
    "`Player`에 가스 정보를 저장할 수 있는 멤버 변수를 추가하고 `__str__` 함수에 가스 정보도 같이 포함 될 수 있게 변경해보자."
   ]
  },
  {
   "cell_type": "code",
   "execution_count": null,
   "metadata": {},
   "outputs": [],
   "source": [
    "class SCV:\n",
    "  # 생성자\n",
    "  def __init__(self, player):\n",
    "    self.player = player\n",
    "\n",
    "  # 멤버 함수: 미네랄 채취\n",
    "  def harvest(self):\n",
    "    self.player.mineral += 8\n",
    "\n",
    "# 클래스: 사령부\n",
    "class CommandCenter:\n",
    "  # 생성자\n",
    "  def __init__(self, player):\n",
    "    self.player = player\n",
    "\n",
    "  # 멤버 함수: 유닛 생성\n",
    "  def produce(self):\n",
    "    self.player.mineral -= 50\n",
    "    print(\"건설로봇이 생성되었습니다.\")\n",
    "    return SCV(self.player)\n",
    "\n",
    "# 클래스: 플레이어\n",
    "class Player:\n",
    "  # 생성자\n",
    "  def __init__(self, name):\n",
    "    self.name = name\n",
    "    self.mineral = 50\n",
    "\n",
    "  # 멤버 함수: 생성자와 같이 예약된 멤버 함수이며, 인스턴스를 문자열로 표현할 때 원하는 형태로 표현할 수 있다.\n",
    "  # 전에 실습했던 printInfo 와 유사한 역할을 한다. (차이점은 print 하지 않고 문자로 반환한다는 점)\n",
    "  def __str__(self):\n",
    "    return f\"{self.name}님의 보유 미네랄 양은 {self.mineral} 입니다.\"\n",
    "\n",
    "\n",
    "# 위에서 작성한 클래스를 이용한 코드작성\n",
    "def main():\n",
    "  # 초기 플레이어 설정\n",
    "  # 플레이어와 시작 건물 / 유닛을 생성한다.\n",
    "  player = Player('BoxeR')\n",
    "  commandCenter = CommandCenter(player)\n",
    "  scvList = [\n",
    "    SCV(player),\n",
    "    SCV(player),\n",
    "    SCV(player),\n",
    "    SCV(player),\n",
    "  ]\n",
    "\n",
    "  # 건설로봇 생산\n",
    "  newScv = commandCenter.produce()\n",
    "  scvList.append(newScv)\n",
    "\n",
    "  # 미네랄 채취\n",
    "  for scv in scvList:\n",
    "    scv.harvest()\n",
    "\n",
    "  # 플레이어 정보 출력\n",
    "  print(player)\n",
    "\n",
    "# 메인 함수 호출\n",
    "main()"
   ]
  },
  {
   "cell_type": "markdown",
   "metadata": {},
   "source": [
    "## 문제 4 (선택)\n",
    "\n",
    "3번 문제의 코드에 자유롭게 유닛 / 건물 각각 1종씩 추가해 보자"
   ]
  }
 ],
 "metadata": {
  "kernelspec": {
   "display_name": "Python 3.10.6 64-bit",
   "language": "python",
   "name": "python3"
  },
  "language_info": {
   "codemirror_mode": {
    "name": "ipython",
    "version": 3
   },
   "file_extension": ".py",
   "mimetype": "text/x-python",
   "name": "python",
   "nbconvert_exporter": "python",
   "pygments_lexer": "ipython3",
   "version": "3.10.6"
  },
  "orig_nbformat": 4,
  "vscode": {
   "interpreter": {
    "hash": "b0fa6594d8f4cbf19f97940f81e996739fb7646882a419484c72d19e05852a7e"
   }
  }
 },
 "nbformat": 4,
 "nbformat_minor": 2
}
